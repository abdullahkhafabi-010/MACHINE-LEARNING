{
  "cells": [
    {
      "cell_type": "markdown",
      "metadata": {
        "id": "view-in-github",
        "colab_type": "text"
      },
      "source": [
        "<a href=\"https://colab.research.google.com/github/abdullahkhafabi-010/MACHINE-LEARNING/blob/main/Kuis2/Kelompok_9_Kuis2_Praktikum.ipynb\" target=\"_parent\"><img src=\"https://colab.research.google.com/assets/colab-badge.svg\" alt=\"Open In Colab\"/></a>"
      ]
    },
    {
      "cell_type": "markdown",
      "metadata": {
        "id": "VxDceVaVfVU3"
      },
      "source": [
        "**Kelompok 9**\n",
        "\n",
        "**Nama Anggota :**\n",
        "\n",
        "1. Abdullah Khafabi / 2041720050 (01)\n",
        "\n",
        "7. Alfan Farchi Al-Hadi / 2141720084 (07)\n",
        "\n",
        "10. Arhan Windu Rizki Putra Budianto / 2141720227 (10)"
      ]
    },
    {
      "cell_type": "markdown",
      "metadata": {
        "id": "4T2o1VzyQVVM"
      },
      "source": [
        "# Kuis 2 - Praktikum (3A)\n",
        "Silakan mengerjakan pertanyaan di bawah ini dengan benar dan jujur.\n",
        "\n",
        "1. Mengerjakan secara kelompok yang terdiri dari 3 anggota\n",
        "2. Kumpulkan e-ktp anggota keluarga pada kelompok minimal 9 buah sebagai dataset.\n",
        "3. deteksi dan kenali foto wajah e-ktp tersebut menggunakan metode yang telah dipelajari baik pada matakulilah PCVK ataupun matakuliah lain pada semester ini.\n",
        "4. Presentasikan di depan kelas hasil dari pekerjaan kelompok Anda, paparkan hasil dari pekerjaan tersebut secara detail lengkap dengan tangkapan layar bagian dari;\n",
        "  1. pre-processing,\n",
        "  2. lokalisasi,\n",
        "  3. segmentasi, dan\n",
        "  4. pengenalan.\n",
        "5. jangan lupa upload juga kode program tersebut pada repository\n",
        "6. kumpulkan link file presentasi dalam bentuk pdf dan link repository.\n",
        "\n",
        "Selamat mengerjaan, semua anggota kelompok wajib saling berkontribusi."
      ]
    },
    {
      "cell_type": "code",
      "execution_count": null,
      "metadata": {
        "id": "qeNvFjoOizl-"
      },
      "outputs": [],
      "source": [
        "from google.colab import drive\n",
        "drive.mount('/content/MyDrive')"
      ]
    },
    {
      "cell_type": "code",
      "execution_count": null,
      "metadata": {
        "id": "Ter_51AatjhM"
      },
      "outputs": [],
      "source": [
        "import cv2 as cv\n",
        "import numpy as np\n",
        "import matplotlib.pyplot as plt\n",
        "import os"
      ]
    },
    {
      "cell_type": "code",
      "execution_count": null,
      "metadata": {
        "colab": {
          "background_save": true
        },
        "id": "sSuKCHbNn3iZ"
      },
      "outputs": [],
      "source": [
        "# Path ke direktori ktp\n",
        "ktp_dir = '/content/MyDrive/MyDrive/KTP'\n",
        "\n",
        "# Membaca cascade\n",
        "cascade_wajah = cv.CascadeClassifier('/content/MyDrive/MyDrive/KTP/haarcascade_frontalface_alt.xml')\n",
        "\n",
        "# Daftar file ktp dalam direktori\n",
        "ktp_files = [\n",
        "    'KTP_Arhan.jpg',\n",
        "    'KTP BPK_Arhan.jpg',\n",
        "    'KTP IBU_Arhan.jpg',\n",
        "    'KTP_Farchi.jpg',\n",
        "    'KTP BPK_Farchi.jpg',\n",
        "    'KTP IBU_Farchi.jpg',\n",
        "    'KTP_Bibi.jpg',\n",
        "    'KTP BPK_Bibi.jpg',\n",
        "    'KTP IBU_Bibi.jpg',\n",
        "]\n",
        "\n",
        "# Direktori tempat ktp disimpan\n",
        "ktp_dir = '/content/MyDrive/MyDrive/KTP'\n",
        "\n",
        "# Looping untuk setiap ktp di direktori\n",
        "for i, ktp_file in enumerate(ktp_files, start=1):\n",
        "    # Baca ktp\n",
        "    ktp_path = os.path.join(ktp_dir, ktp_file)\n",
        "    img = cv.imread(ktp_path)\n",
        "\n",
        "    # PRE-PROCESSING (dari resize sampai equalization)\n",
        "    # Mengubah besar img\n",
        "    img = cv.resize(img, (400, 300))\n",
        "\n",
        "    # Konversi ktp ke grayscale\n",
        "    img_gray = cv.cvtColor(img, cv.COLOR_BGR2GRAY)\n",
        "\n",
        "    # Histogram Equalization\n",
        "    equalized_img = cv.equalizeHist(img_gray)\n",
        "\n",
        "    # Deteksi wajah (LOKALISASI)\n",
        "    roi_wajah = cascade_wajah.detectMultiScale(img_gray, scaleFactor=1.1, minNeighbors=5, minSize=(30, 30))\n",
        "\n",
        "    # Gambar kotak di sekitar wajah pada ktp berwarna\n",
        "    for (x, y, w, h) in roi_wajah:\n",
        "        face_segment = img[y:y+h, x:x+w]\n",
        "\n",
        "        # Menampilkan gambar ktp dan segmentasi wajah\n",
        "        plt.figure(figsize=(13, 10))\n",
        "\n",
        "        plt.subplot(131)\n",
        "        plt.imshow(cv.cvtColor(img, cv.COLOR_BGR2RGB))\n",
        "        plt.title(f'{ktp_file}')\n",
        "        plt.axis('off')\n",
        "\n",
        "        plt.subplot(132)\n",
        "        plt.imshow(cv.cvtColor(face_segment, cv.COLOR_BGR2RGB))\n",
        "        plt.title(f'Wajah Tersegmentasi pada {ktp_file}')\n",
        "        plt.axis('off')\n",
        "\n",
        "        # Menampilkan gambar ktp dengan pengenalan / identifikasi kotak wajah\n",
        "        img_faces = img.copy()\n",
        "        cv.rectangle(img_faces, (x, y), (x + w, y + h), (0, 255, 0), 2)\n",
        "\n",
        "        plt.subplot(133)\n",
        "        plt.imshow(cv.cvtColor(img_faces, cv.COLOR_BGR2RGB))\n",
        "        plt.title(f'Wajah Terdeteksi pada {ktp_file}')\n",
        "        plt.axis('off')\n",
        "\n",
        "        plt.show()"
      ]
    }
  ],
  "metadata": {
    "colab": {
      "provenance": [],
      "include_colab_link": true
    },
    "kernelspec": {
      "display_name": "Python 3",
      "name": "python3"
    },
    "language_info": {
      "name": "python"
    }
  },
  "nbformat": 4,
  "nbformat_minor": 0
}