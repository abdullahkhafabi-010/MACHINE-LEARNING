{
  "nbformat": 4,
  "nbformat_minor": 0,
  "metadata": {
    "colab": {
      "provenance": [],
      "toc_visible": true,
      "mount_file_id": "1fmat7Lsn_a09f2_mmuEENoV2M8MYKCUt",
      "authorship_tag": "ABX9TyN/LMivOdUgssxf3CDaQ0Xa",
      "include_colab_link": true
    },
    "kernelspec": {
      "name": "python3",
      "display_name": "Python 3"
    },
    "language_info": {
      "name": "python"
    }
  },
  "cells": [
    {
      "cell_type": "markdown",
      "metadata": {
        "id": "view-in-github",
        "colab_type": "text"
      },
      "source": [
        "<a href=\"https://colab.research.google.com/github/abdullahkhafabi-010/MACHINE-LEARNING/blob/main/WEEK10/Week10.ipynb\" target=\"_parent\"><img src=\"https://colab.research.google.com/assets/colab-badge.svg\" alt=\"Open In Colab\"/></a>"
      ]
    },
    {
      "cell_type": "markdown",
      "source": [
        "Nama: Abdullah Khafabi"
      ],
      "metadata": {
        "id": "abLJXPQoU_7v"
      }
    },
    {
      "cell_type": "markdown",
      "source": [
        "Nim: 2041720050\n"
      ],
      "metadata": {
        "id": "Ssid3U2zVXUg"
      }
    },
    {
      "cell_type": "markdown",
      "source": [
        "Kelas: 3A"
      ],
      "metadata": {
        "id": "qmKVkC-zVYUL"
      }
    },
    {
      "cell_type": "markdown",
      "source": [
        "# Job Sheet 10 : Recurrent Neural Network (RNN)"
      ],
      "metadata": {
        "id": "Fp4X1wiiMG14"
      }
    },
    {
      "cell_type": "markdown",
      "source": [
        "# Praktikum 1"
      ],
      "metadata": {
        "id": "SnaZmAETWAzI"
      }
    },
    {
      "cell_type": "code",
      "source": [
        "from google.colab import drive\n",
        "\n",
        "#Accessing My Google Drive\n",
        "drive.mount('/content/drive')"
      ],
      "metadata": {
        "colab": {
          "base_uri": "https://localhost:8080/"
        },
        "id": "o68ppFfoJGqG",
        "outputId": "57dce3c0-31c1-48f0-bd1d-79cd34f624e5"
      },
      "execution_count": 1,
      "outputs": [
        {
          "output_type": "stream",
          "name": "stdout",
          "text": [
            "Mounted at /content/drive\n"
          ]
        }
      ]
    },
    {
      "cell_type": "markdown",
      "source": [
        "Langkah 1 - Import Library"
      ],
      "metadata": {
        "id": "ZbkIA-WoMMmV"
      }
    },
    {
      "cell_type": "code",
      "execution_count": 11,
      "metadata": {
        "id": "23HuCVkbL_rD"
      },
      "outputs": [],
      "source": [
        "import numpy as np\n",
        "import tensorflow_datasets as tfds\n",
        "import tensorflow as tf\n",
        "\n",
        "tfds.disable_progress_bar()"
      ]
    },
    {
      "cell_type": "code",
      "source": [
        "import matplotlib.pyplot as plt\n",
        "\n",
        "def plot_graphs(history, metric):\n",
        "    plt.plot(history.history[metric])\n",
        "    plt.plot(history.history['val_'+metric], '')\n",
        "    plt.xlabel(\"Epochs\")\n",
        "    plt.ylabel(metric)\n",
        "    plt.legend([metric, 'val_'+metric])"
      ],
      "metadata": {
        "id": "O7269o6wNKK6"
      },
      "execution_count": 12,
      "outputs": []
    },
    {
      "cell_type": "markdown",
      "source": [
        "Setup input pipeline"
      ],
      "metadata": {
        "id": "woxU-i27WMcw"
      }
    },
    {
      "cell_type": "code",
      "source": [
        "dataset, info = tfds.load('imdb_reviews', with_info=True,\n",
        "                          as_supervised=True)\n",
        "train_dataset, test_dataset = dataset['train'], dataset['test']\n",
        "\n",
        "train_dataset.element_spec"
      ],
      "metadata": {
        "colab": {
          "base_uri": "https://localhost:8080/"
        },
        "id": "X1jhR4BlNhtT",
        "outputId": "124a65c7-69fa-443e-da18-f76511c7ad52"
      },
      "execution_count": 13,
      "outputs": [
        {
          "output_type": "execute_result",
          "data": {
            "text/plain": [
              "(TensorSpec(shape=(), dtype=tf.string, name=None),\n",
              " TensorSpec(shape=(), dtype=tf.int64, name=None))"
            ]
          },
          "metadata": {},
          "execution_count": 13
        }
      ]
    },
    {
      "cell_type": "code",
      "source": [
        "for example, label in train_dataset.take(1):\n",
        "  print('text: ', example.numpy())\n",
        "  print('label: ', label.numpy())"
      ],
      "metadata": {
        "colab": {
          "base_uri": "https://localhost:8080/"
        },
        "id": "NyeRAKhoNmZN",
        "outputId": "b9e4283a-cd53-4a79-b8c9-adc365b2c531"
      },
      "execution_count": 14,
      "outputs": [
        {
          "output_type": "stream",
          "name": "stdout",
          "text": [
            "text:  b\"This was an absolutely terrible movie. Don't be lured in by Christopher Walken or Michael Ironside. Both are great actors, but this must simply be their worst role in history. Even their great acting could not redeem this movie's ridiculous storyline. This movie is an early nineties US propaganda piece. The most pathetic scenes were those when the Columbian rebels were making their cases for revolutions. Maria Conchita Alonso appeared phony, and her pseudo-love affair with Walken was nothing but a pathetic emotional plug in a movie that was devoid of any real meaning. I am disappointed that there are movies like this, ruining actor's like Christopher Walken's good name. I could barely sit through it.\"\n",
            "label:  0\n"
          ]
        }
      ]
    },
    {
      "cell_type": "code",
      "source": [
        "BUFFER_SIZE = 10000\n",
        "BATCH_SIZE = 64\n",
        "\n",
        "train_dataset = train_dataset.shuffle(BUFFER_SIZE).batch(BATCH_SIZE).prefetch(tf.data.AUTOTUNE)\n",
        "test_dataset = test_dataset.batch(BATCH_SIZE).prefetch(tf.data.AUTOTUNE)\n",
        "\n",
        "for example, label in train_dataset.take(1):\n",
        "  print('texts: ', example.numpy()[:3])\n",
        "  print()\n",
        "  print('labels: ', label.numpy()[:3])\n"
      ],
      "metadata": {
        "colab": {
          "base_uri": "https://localhost:8080/"
        },
        "id": "zH1ONO7vNp_Y",
        "outputId": "98902705-9202-4132-ce18-341174a07a42"
      },
      "execution_count": 15,
      "outputs": [
        {
          "output_type": "stream",
          "name": "stdout",
          "text": [
            "texts:  [b'This fantastic whodunit is an early prototype of what soon became a very popular film genre. I was happy to see William Powell handling a detective story with charisma and charm, and without the silly attitude of his Nick Charles character (from the \"Thin Man\" series). While the story is good on its own, I think what really makes this movie fun to watch is Michael Curtiz\\' fantastically imaginative direction. From a visual point of view, this is a richly textured movie, with Curtiz showing an incredible command of the medium; from split screen images, to weird camera angles and imaginative flashbacks, Curtiz demonstrates that he was one of the best Hollywood directors. Highly recommended if you are fan of this type of movie.'\n",
            " b'I have seen many a horror flick in my time, all of them absurdly bad, but none reach the depths that this piece of trash lowers itself to. This movie made me angrier and angrier as I watched it as I tried to wrap my head around exactly what this movie was about. Now, after I\\'ve seen it, I understand - sort of - what was going on and why, but the movie itself is just too confusing to be enjoyable when you\\'re watching it. Yes, there are the customary scenes of gratuitious violence, one-liners that show the mind-blowing insightfulness of its characters (\"The highway belongs to me...ME!\"), and enough nudity to sufficiently distract us from the \"plot\", but still you\\'ll leave this movie feeling alone and taken advantage of, like a puppy who isn\\'t wanted anymore and is left in a box by the side of the road. Blech.'\n",
            " b'The author sets out on a \"journey of discovery\" of his \"roots\" in the southern tobacco industry because he believes that the (completely and deservedly forgotten) movie \"Bright Leaf\" is about an ancestor of his. Its not, and he in fact discovers nothing of even mild interest in this absolutely silly and self-indulgent glorified home movie, suitable for screening at (the director\\'s) drunken family reunions but certainly not for commercial - or even non-commercial release. A good reminder of why most independent films are not picked up by major studios - because they are boring, irrelevant and of no interest to anyone but the director and his/her immediate circles. Avoid at all costs!']\n",
            "\n",
            "labels:  [1 0 0]\n"
          ]
        }
      ]
    },
    {
      "cell_type": "markdown",
      "source": [
        "Buat Teks Encoder"
      ],
      "metadata": {
        "id": "eVweJ7jUWcqM"
      }
    },
    {
      "cell_type": "code",
      "source": [
        "VOCAB_SIZE = 1000\n",
        "encoder = tf.keras.layers.TextVectorization(\n",
        "    max_tokens=VOCAB_SIZE)\n",
        "encoder.adapt(train_dataset.map(lambda text, label: text))"
      ],
      "metadata": {
        "id": "txkMUZyjNsta"
      },
      "execution_count": 16,
      "outputs": []
    },
    {
      "cell_type": "code",
      "source": [
        "vocab = np.array(encoder.get_vocabulary())\n",
        "vocab[:20]"
      ],
      "metadata": {
        "colab": {
          "base_uri": "https://localhost:8080/"
        },
        "id": "hwY0FpwSNvnC",
        "outputId": "67fea998-7f4c-459a-9a32-d7c5e561aaa2"
      },
      "execution_count": 18,
      "outputs": [
        {
          "output_type": "execute_result",
          "data": {
            "text/plain": [
              "array(['', '[UNK]', 'the', 'and', 'a', 'of', 'to', 'is', 'in', 'it', 'i',\n",
              "       'this', 'that', 'br', 'was', 'as', 'for', 'with', 'movie', 'but'],\n",
              "      dtype='<U14')"
            ]
          },
          "metadata": {},
          "execution_count": 18
        }
      ]
    },
    {
      "cell_type": "code",
      "source": [
        "encoded_example = encoder(example)[:3].numpy()\n",
        "encoded_example"
      ],
      "metadata": {
        "id": "ByC2iYdhWlOr",
        "colab": {
          "base_uri": "https://localhost:8080/"
        },
        "outputId": "11c9c8ea-c3f6-403e-abaf-b0278db4d209"
      },
      "execution_count": 19,
      "outputs": [
        {
          "output_type": "execute_result",
          "data": {
            "text/plain": [
              "array([[ 11, 765,   1, ...,   0,   0,   0],\n",
              "       [ 10,  26, 108, ...,   0,   0,   0],\n",
              "       [  2,   1, 708, ...,   0,   0,   0]])"
            ]
          },
          "metadata": {},
          "execution_count": 19
        }
      ]
    },
    {
      "cell_type": "code",
      "source": [
        "for n in range(3):\n",
        "  print(\"Original: \", example[n].numpy())\n",
        "  print(\"Round-trip: \", \" \".join(vocab[encoded_example[n]]))\n",
        "  print()"
      ],
      "metadata": {
        "id": "1LsGfwyVWohL",
        "colab": {
          "base_uri": "https://localhost:8080/"
        },
        "outputId": "862fcef1-d318-4ffe-dc39-fdb0621e06fc"
      },
      "execution_count": 20,
      "outputs": [
        {
          "output_type": "stream",
          "name": "stdout",
          "text": [
            "Original:  b'This fantastic whodunit is an early prototype of what soon became a very popular film genre. I was happy to see William Powell handling a detective story with charisma and charm, and without the silly attitude of his Nick Charles character (from the \"Thin Man\" series). While the story is good on its own, I think what really makes this movie fun to watch is Michael Curtiz\\' fantastically imaginative direction. From a visual point of view, this is a richly textured movie, with Curtiz showing an incredible command of the medium; from split screen images, to weird camera angles and imaginative flashbacks, Curtiz demonstrates that he was one of the best Hollywood directors. Highly recommended if you are fan of this type of movie.'\n",
            "Round-trip:  this fantastic [UNK] is an early [UNK] of what soon became a very [UNK] film genre i was happy to see [UNK] [UNK] [UNK] a [UNK] story with [UNK] and [UNK] and without the silly [UNK] of his [UNK] [UNK] character from the [UNK] man series while the story is good on its own i think what really makes this movie fun to watch is michael [UNK] [UNK] [UNK] direction from a [UNK] point of view this is a [UNK] [UNK] movie with [UNK] showing an [UNK] [UNK] of the [UNK] from [UNK] screen [UNK] to weird camera [UNK] and [UNK] [UNK] [UNK] [UNK] that he was one of the best hollywood directors highly [UNK] if you are fan of this type of movie                                                                                                                                                                                                                                                                                                                                                                                                                                                                                                                                                                                                                                                                                                                                                             \n",
            "\n",
            "Original:  b'I have seen many a horror flick in my time, all of them absurdly bad, but none reach the depths that this piece of trash lowers itself to. This movie made me angrier and angrier as I watched it as I tried to wrap my head around exactly what this movie was about. Now, after I\\'ve seen it, I understand - sort of - what was going on and why, but the movie itself is just too confusing to be enjoyable when you\\'re watching it. Yes, there are the customary scenes of gratuitious violence, one-liners that show the mind-blowing insightfulness of its characters (\"The highway belongs to me...ME!\"), and enough nudity to sufficiently distract us from the \"plot\", but still you\\'ll leave this movie feeling alone and taken advantage of, like a puppy who isn\\'t wanted anymore and is left in a box by the side of the road. Blech.'\n",
            "Round-trip:  i have seen many a horror flick in my time all of them [UNK] bad but none [UNK] the [UNK] that this piece of [UNK] [UNK] itself to this movie made me [UNK] and [UNK] as i watched it as i tried to [UNK] my head around exactly what this movie was about now after ive seen it i understand sort of what was going on and why but the movie itself is just too [UNK] to be enjoyable when youre watching it yes there are the [UNK] scenes of [UNK] violence [UNK] that show the [UNK] [UNK] of its characters the [UNK] [UNK] to [UNK] and enough [UNK] to [UNK] [UNK] us from the plot but still youll leave this movie feeling alone and taken [UNK] of like a [UNK] who isnt wanted [UNK] and is left in a [UNK] by the side of the [UNK] [UNK]                                                                                                                                                                                                                                                                                                                                                                                                                                                                                                                                                                                                                                                                                                                                     \n",
            "\n",
            "Original:  b'The author sets out on a \"journey of discovery\" of his \"roots\" in the southern tobacco industry because he believes that the (completely and deservedly forgotten) movie \"Bright Leaf\" is about an ancestor of his. Its not, and he in fact discovers nothing of even mild interest in this absolutely silly and self-indulgent glorified home movie, suitable for screening at (the director\\'s) drunken family reunions but certainly not for commercial - or even non-commercial release. A good reminder of why most independent films are not picked up by major studios - because they are boring, irrelevant and of no interest to anyone but the director and his/her immediate circles. Avoid at all costs!'\n",
            "Round-trip:  the [UNK] sets out on a [UNK] of [UNK] of his [UNK] in the [UNK] [UNK] [UNK] because he [UNK] that the completely and [UNK] [UNK] movie [UNK] [UNK] is about an [UNK] of his its not and he in fact [UNK] nothing of even [UNK] interest in this absolutely silly and [UNK] [UNK] home movie [UNK] for [UNK] at the directors [UNK] family [UNK] but certainly not for [UNK] or even [UNK] release a good [UNK] of why most [UNK] films are not [UNK] up by major [UNK] because they are boring [UNK] and of no interest to anyone but the director and [UNK] [UNK] [UNK] avoid at all [UNK]                                                                                                                                                                                                                                                                                                                                                                                                                                                                                                                                                                                                                                                                                                                                                                          \n",
            "\n"
          ]
        }
      ]
    },
    {
      "cell_type": "markdown",
      "source": [
        "Buat Model"
      ],
      "metadata": {
        "id": "E5O_zfFtWqK2"
      }
    },
    {
      "cell_type": "code",
      "source": [
        "model = tf.keras.Sequential([\n",
        "    encoder,\n",
        "    tf.keras.layers.Embedding(\n",
        "        input_dim=len(encoder.get_vocabulary()),\n",
        "        output_dim=64,\n",
        "        # Use masking to handle the variable sequence lengths\n",
        "        mask_zero=True),\n",
        "    tf.keras.layers.Bidirectional(tf.keras.layers.LSTM(64)),\n",
        "    tf.keras.layers.Dense(64, activation='relu'),\n",
        "    tf.keras.layers.Dense(1)\n",
        "])"
      ],
      "metadata": {
        "id": "GOkrQJbkWq-b"
      },
      "execution_count": 21,
      "outputs": []
    },
    {
      "cell_type": "code",
      "source": [
        "print([layer.supports_masking for layer in model.layers])"
      ],
      "metadata": {
        "id": "2ZE_dSgrW0wW",
        "colab": {
          "base_uri": "https://localhost:8080/"
        },
        "outputId": "501daf74-300f-41d2-f06b-7042e004b585"
      },
      "execution_count": 23,
      "outputs": [
        {
          "output_type": "stream",
          "name": "stdout",
          "text": [
            "[False, True, True, True, True]\n"
          ]
        }
      ]
    },
    {
      "cell_type": "code",
      "source": [
        "# predict on a sample text without padding.\n",
        "\n",
        "sample_text = ('The movie was cool. The animation and the graphics '\n",
        "               'were out of this world. I would recommend this movie.')\n",
        "predictions = model.predict(np.array([sample_text]))\n",
        "print(predictions[0])"
      ],
      "metadata": {
        "id": "LHGWohVeW3KV",
        "colab": {
          "base_uri": "https://localhost:8080/"
        },
        "outputId": "0aa17da7-3a50-4f49-b2a7-0478cbe88efc"
      },
      "execution_count": 24,
      "outputs": [
        {
          "output_type": "stream",
          "name": "stdout",
          "text": [
            "1/1 [==============================] - 2s 2s/step\n",
            "[-0.01118256]\n"
          ]
        }
      ]
    },
    {
      "cell_type": "code",
      "source": [
        "# predict on a sample text with padding\n",
        "\n",
        "padding = \"the \" * 2000\n",
        "predictions = model.predict(np.array([sample_text, padding]))\n",
        "print(predictions[0])"
      ],
      "metadata": {
        "id": "a1h4O1ZbW5qV",
        "colab": {
          "base_uri": "https://localhost:8080/"
        },
        "outputId": "ca28bd99-0fb7-41ae-905c-5adb25a69deb"
      },
      "execution_count": 25,
      "outputs": [
        {
          "output_type": "stream",
          "name": "stdout",
          "text": [
            "1/1 [==============================] - 0s 254ms/step\n",
            "[-0.01118256]\n"
          ]
        }
      ]
    },
    {
      "cell_type": "code",
      "source": [
        "model.compile(loss=tf.keras.losses.BinaryCrossentropy(from_logits=True),\n",
        "              optimizer=tf.keras.optimizers.Adam(1e-4),\n",
        "              metrics=['accuracy'])"
      ],
      "metadata": {
        "id": "pexM2CA-fs9X"
      },
      "execution_count": 26,
      "outputs": []
    },
    {
      "cell_type": "markdown",
      "source": [
        "Train Model"
      ],
      "metadata": {
        "id": "hS6OEKmTfvEj"
      }
    },
    {
      "cell_type": "code",
      "source": [
        "history = model.fit(train_dataset, epochs=10,\n",
        "                    validation_data=test_dataset,\n",
        "                    validation_steps=30)"
      ],
      "metadata": {
        "colab": {
          "base_uri": "https://localhost:8080/"
        },
        "id": "xNtOfh8kfvsb",
        "outputId": "8dcb59ba-b608-45f1-c549-4f438f683da8"
      },
      "execution_count": 28,
      "outputs": [
        {
          "output_type": "stream",
          "name": "stdout",
          "text": [
            "Epoch 1/10\n",
            "391/391 [==============================] - 464s 1s/step - loss: 0.6410 - accuracy: 0.5692 - val_loss: 0.4903 - val_accuracy: 0.7563\n",
            "Epoch 2/10\n",
            "391/391 [==============================] - 423s 1s/step - loss: 0.4428 - accuracy: 0.8018 - val_loss: 0.3876 - val_accuracy: 0.8318\n",
            "Epoch 3/10\n",
            "391/391 [==============================] - 426s 1s/step - loss: 0.3582 - accuracy: 0.8420 - val_loss: 0.3635 - val_accuracy: 0.8464\n",
            "Epoch 4/10\n",
            "391/391 [==============================] - 425s 1s/step - loss: 0.3288 - accuracy: 0.8570 - val_loss: 0.3397 - val_accuracy: 0.8458\n",
            "Epoch 5/10\n",
            "391/391 [==============================] - 424s 1s/step - loss: 0.3163 - accuracy: 0.8660 - val_loss: 0.3280 - val_accuracy: 0.8531\n",
            "Epoch 6/10\n",
            "391/391 [==============================] - 419s 1s/step - loss: 0.3094 - accuracy: 0.8696 - val_loss: 0.3305 - val_accuracy: 0.8578\n",
            "Epoch 7/10\n",
            "391/391 [==============================] - 419s 1s/step - loss: 0.3066 - accuracy: 0.8690 - val_loss: 0.3275 - val_accuracy: 0.8531\n",
            "Epoch 8/10\n",
            "391/391 [==============================] - 429s 1s/step - loss: 0.3056 - accuracy: 0.8725 - val_loss: 0.3277 - val_accuracy: 0.8552\n",
            "Epoch 9/10\n",
            "391/391 [==============================] - 429s 1s/step - loss: 0.3021 - accuracy: 0.8726 - val_loss: 0.3264 - val_accuracy: 0.8573\n",
            "Epoch 10/10\n",
            "391/391 [==============================] - 436s 1s/step - loss: 0.2993 - accuracy: 0.8746 - val_loss: 0.3227 - val_accuracy: 0.8573\n"
          ]
        }
      ]
    },
    {
      "cell_type": "code",
      "source": [
        "test_loss, test_acc = model.evaluate(test_dataset)\n",
        "\n",
        "print('Test Loss:', test_loss)\n",
        "print('Test Accuracy:', test_acc)"
      ],
      "metadata": {
        "colab": {
          "base_uri": "https://localhost:8080/"
        },
        "id": "GYL5CmlWf3TW",
        "outputId": "f554d8f0-9f29-426a-8679-e481931b995c"
      },
      "execution_count": 29,
      "outputs": [
        {
          "output_type": "stream",
          "name": "stdout",
          "text": [
            "391/391 [==============================] - 104s 267ms/step - loss: 0.3160 - accuracy: 0.8582\n",
            "Test Loss: 0.31599128246307373\n",
            "Test Accuracy: 0.8581600189208984\n"
          ]
        }
      ]
    },
    {
      "cell_type": "code",
      "source": [
        "plt.figure(figsize=(16, 8))\n",
        "plt.subplot(1, 2, 1)\n",
        "plot_graphs(history, 'accuracy')\n",
        "plt.ylim(None, 1)\n",
        "plt.subplot(1, 2, 2)\n",
        "plot_graphs(history, 'loss')\n",
        "plt.ylim(0, None)"
      ],
      "metadata": {
        "colab": {
          "base_uri": "https://localhost:8080/",
          "height": 360
        },
        "id": "CSKEC2EGf6E9",
        "outputId": "f77caf43-abac-440e-a8db-20884d702998"
      },
      "execution_count": 30,
      "outputs": [
        {
          "output_type": "execute_result",
          "data": {
            "text/plain": [
              "(0.0, 0.6581237405538559)"
            ]
          },
          "metadata": {},
          "execution_count": 30
        },
        {
          "output_type": "display_data",
          "data": {
            "text/plain": [
              "<Figure size 1600x800 with 2 Axes>"
            ],
            "image/png": "[encoded data removed]"
          },
          "metadata": {}
        }
      ]
    },
    {
      "cell_type": "code",
      "source": [
        "sample_text = ('The movie was cool. The animation and the graphics '\n",
        "              'were out of this world. I would recommend this movie.')\n",
        "predictions = model.predict(np.array([sample_text]))"
      ],
      "metadata": {
        "colab": {
          "base_uri": "https://localhost:8080/"
        },
        "id": "jTzt5T7df8XT",
        "outputId": "71ee87e5-8733-4ab0-9391-5dc7b611b15c"
      },
      "execution_count": 31,
      "outputs": [
        {
          "output_type": "stream",
          "name": "stdout",
          "text": [
            "1/1 [==============================] - 2s 2s/step\n"
          ]
        }
      ]
    },
    {
      "cell_type": "markdown",
      "source": [
        "Stack two or more LSTM layers"
      ],
      "metadata": {
        "id": "E-xpZqbcgF0V"
      }
    },
    {
      "cell_type": "code",
      "source": [
        "model = tf.keras.Sequential([\n",
        "    encoder,\n",
        "    tf.keras.layers.Embedding(len(encoder.get_vocabulary()), 64, mask_zero=True),\n",
        "    tf.keras.layers.Bidirectional(tf.keras.layers.LSTM(64, return_sequences=True)),\n",
        "    tf.keras.layers.Bidirectional(tf.keras.layers.LSTM(32)),\n",
        "    tf.keras.layers.Dense(64, activation='relu'),\n",
        "    tf.keras.layers.Dropout(0.5),\n",
        "    tf.keras.layers.Dense(1)\n",
        "])"
      ],
      "metadata": {
        "id": "y0IzIy9RgG2J"
      },
      "execution_count": 34,
      "outputs": []
    },
    {
      "cell_type": "code",
      "source": [
        "model.compile(loss=tf.keras.losses.BinaryCrossentropy(from_logits=True),\n",
        "              optimizer=tf.keras.optimizers.Adam(1e-4),\n",
        "              metrics=['accuracy'])"
      ],
      "metadata": {
        "id": "aw6CjpqmgQV_"
      },
      "execution_count": 35,
      "outputs": []
    },
    {
      "cell_type": "code",
      "source": [
        "history = model.fit(train_dataset, epochs=10,\n",
        "                    validation_data=test_dataset,\n",
        "                    validation_steps=30)"
      ],
      "metadata": {
        "colab": {
          "base_uri": "https://localhost:8080/"
        },
        "id": "TqVOlkoMgSLm",
        "outputId": "b7a0072f-e42a-4770-d48f-632c8ea1f545"
      },
      "execution_count": 36,
      "outputs": [
        {
          "output_type": "stream",
          "name": "stdout",
          "text": [
            "Epoch 1/10\n",
            "391/391 [==============================] - 885s 2s/step - loss: 0.6095 - accuracy: 0.6065 - val_loss: 0.4231 - val_accuracy: 0.8057\n",
            "Epoch 2/10\n",
            "391/391 [==============================] - 858s 2s/step - loss: 0.3781 - accuracy: 0.8404 - val_loss: 0.3455 - val_accuracy: 0.8427\n",
            "Epoch 3/10\n",
            "391/391 [==============================] - 873s 2s/step - loss: 0.3364 - accuracy: 0.8567 - val_loss: 0.3310 - val_accuracy: 0.8510\n",
            "Epoch 4/10\n",
            "391/391 [==============================] - 852s 2s/step - loss: 0.3185 - accuracy: 0.8646 - val_loss: 0.3231 - val_accuracy: 0.8521\n",
            "Epoch 5/10\n",
            "391/391 [==============================] - 844s 2s/step - loss: 0.3106 - accuracy: 0.8683 - val_loss: 0.3197 - val_accuracy: 0.8557\n",
            "Epoch 6/10\n",
            "391/391 [==============================] - 824s 2s/step - loss: 0.3057 - accuracy: 0.8696 - val_loss: 0.3206 - val_accuracy: 0.8562\n",
            "Epoch 7/10\n",
            "391/391 [==============================] - 835s 2s/step - loss: 0.3012 - accuracy: 0.8715 - val_loss: 0.3307 - val_accuracy: 0.8401\n",
            "Epoch 8/10\n",
            "391/391 [==============================] - 832s 2s/step - loss: 0.3006 - accuracy: 0.8721 - val_loss: 0.3223 - val_accuracy: 0.8604\n",
            "Epoch 9/10\n",
            "391/391 [==============================] - 830s 2s/step - loss: 0.2998 - accuracy: 0.8740 - val_loss: 0.3458 - val_accuracy: 0.8448\n",
            "Epoch 10/10\n",
            "391/391 [==============================] - 837s 2s/step - loss: 0.2929 - accuracy: 0.8755 - val_loss: 0.3188 - val_accuracy: 0.8661\n"
          ]
        }
      ]
    },
    {
      "cell_type": "code",
      "source": [
        "test_loss, test_acc = model.evaluate(test_dataset)\n",
        "\n",
        "print('Test Loss:', test_loss)\n",
        "print('Test Accuracy:', test_acc)"
      ],
      "metadata": {
        "colab": {
          "base_uri": "https://localhost:8080/"
        },
        "id": "jvS_cmJ6gUJd",
        "outputId": "3c8779fe-7f51-4a5b-b03c-063744076e7a"
      },
      "execution_count": 37,
      "outputs": [
        {
          "output_type": "stream",
          "name": "stdout",
          "text": [
            "391/391 [==============================] - 195s 498ms/step - loss: 0.3191 - accuracy: 0.8612\n",
            "Test Loss: 0.3190540075302124\n",
            "Test Accuracy: 0.861240029335022\n"
          ]
        }
      ]
    },
    {
      "cell_type": "code",
      "source": [
        "# predict on a sample text without padding.\n",
        "\n",
        "sample_text = ('The movie was not good. The animation and the graphics '\n",
        "                'were terrible. I would not recommend this movie.')\n",
        "predictions = model.predict(np.array([sample_text]))\n",
        "print(predictions)"
      ],
      "metadata": {
        "colab": {
          "base_uri": "https://localhost:8080/"
        },
        "id": "Q1XA17R3gWQs",
        "outputId": "291ba301-19c3-4c32-ad39-19c735d2555d"
      },
      "execution_count": 38,
      "outputs": [
        {
          "output_type": "stream",
          "name": "stdout",
          "text": [
            "1/1 [==============================] - 7s 7s/step\n",
            "[[-1.9228163]]\n"
          ]
        }
      ]
    },
    {
      "cell_type": "code",
      "source": [
        "plt.figure(figsize=(16, 6))\n",
        "plt.subplot(1, 2, 1)\n",
        "plot_graphs(history, 'accuracy')\n",
        "plt.subplot(1, 2, 2)\n",
        "plot_graphs(history, 'loss')"
      ],
      "metadata": {
        "colab": {
          "base_uri": "https://localhost:8080/",
          "height": 267
        },
        "id": "LfCzLe57gYPO",
        "outputId": "d75eb09e-cf1f-457d-e712-9893f1450bd8"
      },
      "execution_count": 39,
      "outputs": [
        {
          "output_type": "display_data",
          "data": {
            "text/plain": [
              "<Figure size 1600x600 with 2 Axes>"
            ],
            "image/png": "[encoded data removed]"
          },
          "metadata": {}
        }
      ]
    },
    {
      "cell_type": "markdown",
      "source": [
        "# Praktikum 2"
      ],
      "metadata": {
        "id": "eXHsPHYfW79f"
      }
    },
    {
      "cell_type": "markdown",
      "source": [
        "Langkah 1 - Load Library"
      ],
      "metadata": {
        "id": "ebxPWYUKXA2T"
      }
    },
    {
      "cell_type": "markdown",
      "source": [
        "Import TensorFlow"
      ],
      "metadata": {
        "id": "mdBrMKbSXEdw"
      }
    },
    {
      "cell_type": "code",
      "source": [
        "import tensorflow as tf\n",
        "import numpy as np\n",
        "import os\n",
        "import time"
      ],
      "metadata": {
        "id": "p4464REcXFl8"
      },
      "execution_count": 42,
      "outputs": []
    },
    {
      "cell_type": "markdown",
      "source": [
        "Download Dataset Shakespeare"
      ],
      "metadata": {
        "id": "YybYkrUKXIAS"
      }
    },
    {
      "cell_type": "code",
      "source": [
        "path_to_file = tf.keras.utils.get_file('shakespeare.txt', 'https://storage.googleapis.com/download.tensorflow.org/data/shakespeare.txt')"
      ],
      "metadata": {
        "id": "_vQoUm-4XJHw",
        "colab": {
          "base_uri": "https://localhost:8080/"
        },
        "outputId": "16e71063-cdec-407e-acda-21f4a7ba329d"
      },
      "execution_count": 44,
      "outputs": [
        {
          "output_type": "stream",
          "name": "stdout",
          "text": [
            "Downloading data from https://storage.googleapis.com/download.tensorflow.org/data/shakespeare.txt\n",
            "1115394/1115394 [==============================] - 0s 0us/step\n"
          ]
        }
      ]
    },
    {
      "cell_type": "markdown",
      "source": [
        "Load Data"
      ],
      "metadata": {
        "id": "z73nDLygXUmH"
      }
    },
    {
      "cell_type": "code",
      "source": [
        "# Read, then decode for py2 compat.\n",
        "text = open(path_to_file, 'rb').read().decode(encoding='utf-8')\n",
        "# length of text is the number of characters in it\n",
        "print(f'Length of text: {len(text)} characters')"
      ],
      "metadata": {
        "id": "QEGiKkP_XY96",
        "colab": {
          "base_uri": "https://localhost:8080/"
        },
        "outputId": "bbd15146-20ff-45e3-ecc9-0a685f93ff47"
      },
      "execution_count": 45,
      "outputs": [
        {
          "output_type": "stream",
          "name": "stdout",
          "text": [
            "Length of text: 1115394 characters\n"
          ]
        }
      ]
    },
    {
      "cell_type": "code",
      "source": [
        "# Take a look at the first 250 characters in text\n",
        "print(text[:250])"
      ],
      "metadata": {
        "id": "IWv5yhtBXguA",
        "colab": {
          "base_uri": "https://localhost:8080/"
        },
        "outputId": "fb3e6ad1-e6e4-4dbd-edb2-32fd02541f8c"
      },
      "execution_count": 46,
      "outputs": [
        {
          "output_type": "stream",
          "name": "stdout",
          "text": [
            "First Citizen:\n",
            "Before we proceed any further, hear me speak.\n",
            "\n",
            "All:\n",
            "Speak, speak.\n",
            "\n",
            "First Citizen:\n",
            "You are all resolved rather to die than to famish?\n",
            "\n",
            "All:\n",
            "Resolved. resolved.\n",
            "\n",
            "First Citizen:\n",
            "First, you know Caius Marcius is chief enemy to the people.\n",
            "\n"
          ]
        }
      ]
    },
    {
      "cell_type": "code",
      "source": [
        "# The unique characters in the file\n",
        "vocab = sorted(set(text))\n",
        "print(f'{len(vocab)} unique characters')"
      ],
      "metadata": {
        "id": "in8uWizfXjCk",
        "colab": {
          "base_uri": "https://localhost:8080/"
        },
        "outputId": "d614f547-4c5c-4012-b9a5-e9fbcbac4f19"
      },
      "execution_count": 47,
      "outputs": [
        {
          "output_type": "stream",
          "name": "stdout",
          "text": [
            "65 unique characters\n"
          ]
        }
      ]
    },
    {
      "cell_type": "markdown",
      "source": [
        "Olah Teks"
      ],
      "metadata": {
        "id": "3ZHv3YLOXkXQ"
      }
    },
    {
      "cell_type": "markdown",
      "source": [
        "Vectorize Teks"
      ],
      "metadata": {
        "id": "aLYNFZq_o40l"
      }
    },
    {
      "cell_type": "code",
      "source": [
        "example_texts = ['abcdefg', 'xyz']\n",
        "chars = tf.strings.unicode_split(example_texts, input_encoding='UTF-8')\n",
        "chars"
      ],
      "metadata": {
        "id": "nhDvAnH4XmSn",
        "colab": {
          "base_uri": "https://localhost:8080/"
        },
        "outputId": "c1e38c3f-8419-4b79-b1b3-5373ad11bd6a"
      },
      "execution_count": 49,
      "outputs": [
        {
          "output_type": "execute_result",
          "data": {
            "text/plain": [
              "<tf.RaggedTensor [[b'a', b'b', b'c', b'd', b'e', b'f', b'g'], [b'x', b'y', b'z']]>"
            ]
          },
          "metadata": {},
          "execution_count": 49
        }
      ]
    },
    {
      "cell_type": "code",
      "source": [
        "ids_from_chars = tf.keras.layers.StringLookup(\n",
        "vocabulary=list(vocab), mask_token=None)"
      ],
      "metadata": {
        "id": "Btao5KEBXqyN"
      },
      "execution_count": 50,
      "outputs": []
    },
    {
      "cell_type": "code",
      "source": [
        "ids = ids_from_chars(chars)\n",
        "ids"
      ],
      "metadata": {
        "id": "xKe0FoUTXu6G",
        "colab": {
          "base_uri": "https://localhost:8080/"
        },
        "outputId": "b707f673-9f1f-4b9a-a716-d2801983b40f"
      },
      "execution_count": 51,
      "outputs": [
        {
          "output_type": "execute_result",
          "data": {
            "text/plain": [
              "<tf.RaggedTensor [[40, 41, 42, 43, 44, 45, 46], [63, 64, 65]]>"
            ]
          },
          "metadata": {},
          "execution_count": 51
        }
      ]
    },
    {
      "cell_type": "code",
      "source": [
        "chars_from_ids = tf.keras.layers.StringLookup(\n",
        "    vocabulary=ids_from_chars.get_vocabulary(), invert=True, mask_token=None)"
      ],
      "metadata": {
        "id": "VIRLr-SjXzG0"
      },
      "execution_count": 52,
      "outputs": []
    },
    {
      "cell_type": "code",
      "source": [
        "chars = chars_from_ids(ids)\n",
        "chars"
      ],
      "metadata": {
        "id": "XyRdYrNxX2js",
        "colab": {
          "base_uri": "https://localhost:8080/"
        },
        "outputId": "b57b8241-b75c-4b17-a63b-67c751fbb88e"
      },
      "execution_count": 53,
      "outputs": [
        {
          "output_type": "execute_result",
          "data": {
            "text/plain": [
              "<tf.RaggedTensor [[b'a', b'b', b'c', b'd', b'e', b'f', b'g'], [b'x', b'y', b'z']]>"
            ]
          },
          "metadata": {},
          "execution_count": 53
        }
      ]
    },
    {
      "cell_type": "code",
      "source": [
        "tf.strings.reduce_join(chars, axis=-1).numpy()"
      ],
      "metadata": {
        "colab": {
          "base_uri": "https://localhost:8080/"
        },
        "id": "5InH7B1MpWTS",
        "outputId": "8436cf9b-0bb1-4f6b-e946-1b460e0d4e7f"
      },
      "execution_count": 55,
      "outputs": [
        {
          "output_type": "execute_result",
          "data": {
            "text/plain": [
              "array([b'abcdefg', b'xyz'], dtype=object)"
            ]
          },
          "metadata": {},
          "execution_count": 55
        }
      ]
    },
    {
      "cell_type": "code",
      "source": [
        "def text_from_ids(ids):\n",
        "    return tf.strings.reduce_join(chars_from_ids(ids), axis=-1)"
      ],
      "metadata": {
        "id": "MUMxCq0tpZZx"
      },
      "execution_count": 56,
      "outputs": []
    },
    {
      "cell_type": "markdown",
      "source": [
        "Prediksi"
      ],
      "metadata": {
        "id": "MnED7_4TpesY"
      }
    },
    {
      "cell_type": "markdown",
      "source": [
        "Membuat Trianing Set dan Target"
      ],
      "metadata": {
        "id": "FARTG0HvpgTZ"
      }
    },
    {
      "cell_type": "code",
      "source": [
        "all_ids = ids_from_chars(tf.strings.unicode_split(text, 'UTF-8'))\n",
        "all_ids"
      ],
      "metadata": {
        "colab": {
          "base_uri": "https://localhost:8080/"
        },
        "id": "vGsavd6nph_D",
        "outputId": "25d7f185-c5cb-4a04-d3d8-18136291f525"
      },
      "execution_count": 57,
      "outputs": [
        {
          "output_type": "execute_result",
          "data": {
            "text/plain": [
              "<tf.Tensor: shape=(1115394,), dtype=int64, numpy=array([19, 48, 57, ..., 46,  9,  1])>"
            ]
          },
          "metadata": {},
          "execution_count": 57
        }
      ]
    },
    {
      "cell_type": "code",
      "source": [
        "ids_dataset = tf.data.Dataset.from_tensor_slices(all_ids)"
      ],
      "metadata": {
        "id": "J5xrACMhplz0"
      },
      "execution_count": 58,
      "outputs": []
    },
    {
      "cell_type": "code",
      "source": [
        "for ids in ids_dataset.take(10):\n",
        "    print(chars_from_ids(ids).numpy().decode('utf-8'))"
      ],
      "metadata": {
        "colab": {
          "base_uri": "https://localhost:8080/"
        },
        "id": "kdQgYVvYpoWU",
        "outputId": "8eaaf92c-91b9-468b-ee5e-cc5f87d237d6"
      },
      "execution_count": 59,
      "outputs": [
        {
          "output_type": "stream",
          "name": "stdout",
          "text": [
            "F\n",
            "i\n",
            "r\n",
            "s\n",
            "t\n",
            " \n",
            "C\n",
            "i\n",
            "t\n",
            "i\n"
          ]
        }
      ]
    },
    {
      "cell_type": "code",
      "source": [
        "seq_length = 100"
      ],
      "metadata": {
        "id": "HfNZv5OLptl4"
      },
      "execution_count": 61,
      "outputs": []
    },
    {
      "cell_type": "code",
      "source": [
        "sequences = ids_dataset.batch(seq_length+1, drop_remainder=True)\n",
        "\n",
        "for seq in sequences.take(1):\n",
        "  print(chars_from_ids(seq))"
      ],
      "metadata": {
        "colab": {
          "base_uri": "https://localhost:8080/"
        },
        "id": "gaNYw4qVp39m",
        "outputId": "153a6c71-8c7d-4461-aee3-3860da4a11a7"
      },
      "execution_count": 62,
      "outputs": [
        {
          "output_type": "stream",
          "name": "stdout",
          "text": [
            "tf.Tensor(\n",
            "[b'F' b'i' b'r' b's' b't' b' ' b'C' b'i' b't' b'i' b'z' b'e' b'n' b':'\n",
            " b'\\n' b'B' b'e' b'f' b'o' b'r' b'e' b' ' b'w' b'e' b' ' b'p' b'r' b'o'\n",
            " b'c' b'e' b'e' b'd' b' ' b'a' b'n' b'y' b' ' b'f' b'u' b'r' b't' b'h'\n",
            " b'e' b'r' b',' b' ' b'h' b'e' b'a' b'r' b' ' b'm' b'e' b' ' b's' b'p'\n",
            " b'e' b'a' b'k' b'.' b'\\n' b'\\n' b'A' b'l' b'l' b':' b'\\n' b'S' b'p' b'e'\n",
            " b'a' b'k' b',' b' ' b's' b'p' b'e' b'a' b'k' b'.' b'\\n' b'\\n' b'F' b'i'\n",
            " b'r' b's' b't' b' ' b'C' b'i' b't' b'i' b'z' b'e' b'n' b':' b'\\n' b'Y'\n",
            " b'o' b'u' b' '], shape=(101,), dtype=string)\n"
          ]
        }
      ]
    },
    {
      "cell_type": "code",
      "source": [
        "for seq in sequences.take(5):\n",
        "    print(text_from_ids(seq).numpy())"
      ],
      "metadata": {
        "colab": {
          "base_uri": "https://localhost:8080/"
        },
        "id": "J2S8gm08p5zB",
        "outputId": "7e4172e0-89a4-4b72-9735-ebf1c951a1d3"
      },
      "execution_count": 63,
      "outputs": [
        {
          "output_type": "stream",
          "name": "stdout",
          "text": [
            "b'First Citizen:\\nBefore we proceed any further, hear me speak.\\n\\nAll:\\nSpeak, speak.\\n\\nFirst Citizen:\\nYou '\n",
            "b'are all resolved rather to die than to famish?\\n\\nAll:\\nResolved. resolved.\\n\\nFirst Citizen:\\nFirst, you k'\n",
            "b\"now Caius Marcius is chief enemy to the people.\\n\\nAll:\\nWe know't, we know't.\\n\\nFirst Citizen:\\nLet us ki\"\n",
            "b\"ll him, and we'll have corn at our own price.\\nIs't a verdict?\\n\\nAll:\\nNo more talking on't; let it be d\"\n",
            "b'one: away, away!\\n\\nSecond Citizen:\\nOne word, good citizens.\\n\\nFirst Citizen:\\nWe are accounted poor citi'\n"
          ]
        }
      ]
    },
    {
      "cell_type": "code",
      "source": [
        "def split_input_target(sequence):\n",
        "  input_text = sequence[:-1]\n",
        "  target_text = sequence[1:]\n",
        "  return input_text, target_text"
      ],
      "metadata": {
        "id": "dHv_ZMBdp_CA"
      },
      "execution_count": 64,
      "outputs": []
    },
    {
      "cell_type": "code",
      "source": [
        "split_input_target(list(\"Tensorflow\"))"
      ],
      "metadata": {
        "colab": {
          "base_uri": "https://localhost:8080/"
        },
        "id": "OHJeOPVRqKif",
        "outputId": "be9bfa3b-9c99-4671-be4c-61c2fd676499"
      },
      "execution_count": 65,
      "outputs": [
        {
          "output_type": "execute_result",
          "data": {
            "text/plain": [
              "(['T', 'e', 'n', 's', 'o', 'r', 'f', 'l', 'o'],\n",
              " ['e', 'n', 's', 'o', 'r', 'f', 'l', 'o', 'w'])"
            ]
          },
          "metadata": {},
          "execution_count": 65
        }
      ]
    },
    {
      "cell_type": "code",
      "source": [
        "dataset = sequences.map(split_input_target)"
      ],
      "metadata": {
        "id": "U8Y8byFcqL-o"
      },
      "execution_count": 66,
      "outputs": []
    },
    {
      "cell_type": "code",
      "source": [
        "for input_example, target_example in dataset.take(1):\n",
        "  print(\"Input :\", text_from_ids(input_example).numpy())\n",
        "  print(\"Target:\", text_from_ids(target_example).numpy())"
      ],
      "metadata": {
        "colab": {
          "base_uri": "https://localhost:8080/"
        },
        "id": "sqwxoK-5qOJl",
        "outputId": "c7a168b9-34bb-4f50-9ebb-1fc484140204"
      },
      "execution_count": 67,
      "outputs": [
        {
          "output_type": "stream",
          "name": "stdout",
          "text": [
            "Input : b'First Citizen:\\nBefore we proceed any further, hear me speak.\\n\\nAll:\\nSpeak, speak.\\n\\nFirst Citizen:\\nYou'\n",
            "Target: b'irst Citizen:\\nBefore we proceed any further, hear me speak.\\n\\nAll:\\nSpeak, speak.\\n\\nFirst Citizen:\\nYou '\n"
          ]
        }
      ]
    },
    {
      "cell_type": "markdown",
      "source": [
        "Membuat Batch Training"
      ],
      "metadata": {
        "id": "g_7zUeKwqY5O"
      }
    },
    {
      "cell_type": "code",
      "source": [
        "# Batch size\n",
        "BATCH_SIZE = 64\n",
        "\n",
        "# Buffer size to shuffle the dataset\n",
        "# (TF data is designed to work with possibly infinite sequences,\n",
        "# so it doesn't attempt to shuffle the entire sequence in memory. Instead,\n",
        "# it maintains a buffer in which it shuffles elements).\n",
        "BUFFER_SIZE = 10000\n",
        "\n",
        "dataset = (\n",
        "    dataset\n",
        "    .shuffle(BUFFER_SIZE)\n",
        "    .batch(BATCH_SIZE, drop_remainder=True)\n",
        "    .prefetch(tf.data.experimental.AUTOTUNE))\n",
        "\n",
        "dataset"
      ],
      "metadata": {
        "colab": {
          "base_uri": "https://localhost:8080/"
        },
        "id": "B9_oAQKOqZiV",
        "outputId": "1eb2f77d-ba30-463a-d177-83a4fca6f7be"
      },
      "execution_count": 68,
      "outputs": [
        {
          "output_type": "execute_result",
          "data": {
            "text/plain": [
              "<_PrefetchDataset element_spec=(TensorSpec(shape=(64, 100), dtype=tf.int64, name=None), TensorSpec(shape=(64, 100), dtype=tf.int64, name=None))>"
            ]
          },
          "metadata": {},
          "execution_count": 68
        }
      ]
    },
    {
      "cell_type": "markdown",
      "source": [
        "Buat Model"
      ],
      "metadata": {
        "id": "_3vkC_SIqdO2"
      }
    },
    {
      "cell_type": "code",
      "source": [
        "# Length of the vocabulary in StringLookup Layer\n",
        "vocab_size = len(ids_from_chars.get_vocabulary())\n",
        "\n",
        "# The embedding dimension\n",
        "embedding_dim = 256\n",
        "\n",
        "# Number of RNN units\n",
        "rnn_units = 1024"
      ],
      "metadata": {
        "id": "3Fg04NUrqeq0"
      },
      "execution_count": 69,
      "outputs": []
    },
    {
      "cell_type": "code",
      "source": [
        "class MyModel(tf.keras.Model):\n",
        "  def __init__(self, vocab_size, embedding_dim, rnn_units):\n",
        "    super().__init__(self)\n",
        "    self.embedding = tf.keras.layers.Embedding(vocab_size, embedding_dim)\n",
        "    self.gru = tf.keras.layers.GRU(rnn_units,\n",
        "                                   return_sequences=True,\n",
        "                                   return_state=True)\n",
        "    self.dense = tf.keras.layers.Dense(vocab_size)\n",
        "\n",
        "  def call(self, inputs, states=None, return_state=False, training=False):\n",
        "    x = inputs\n",
        "    x = self.embedding(x, training=training)\n",
        "    if states is None:\n",
        "      states = self.gru.get_initial_state(x)\n",
        "    x, states = self.gru(x, initial_state=states, training=training)\n",
        "    x = self.dense(x, training=training)\n",
        "\n",
        "    if return_state:\n",
        "      return x, states\n",
        "    else:\n",
        "      return x"
      ],
      "metadata": {
        "id": "Jdlf4pLHqgBf"
      },
      "execution_count": 70,
      "outputs": []
    },
    {
      "cell_type": "code",
      "source": [
        "model = MyModel(\n",
        "    vocab_size=vocab_size,\n",
        "    embedding_dim=embedding_dim,\n",
        "    rnn_units=rnn_units)"
      ],
      "metadata": {
        "id": "L6At2fYIqiUx"
      },
      "execution_count": 71,
      "outputs": []
    },
    {
      "cell_type": "markdown",
      "source": [
        "Uji Model"
      ],
      "metadata": {
        "id": "C45zs3gMqkoW"
      }
    },
    {
      "cell_type": "code",
      "source": [
        "for input_example_batch, target_example_batch in dataset.take(1):\n",
        "    example_batch_predictions = model(input_example_batch)\n",
        "    print(example_batch_predictions.shape, \"# (batch_size, sequence_length, vocab_size)\")"
      ],
      "metadata": {
        "colab": {
          "base_uri": "https://localhost:8080/"
        },
        "id": "dm0zJFOaqld6",
        "outputId": "0a9d0b44-8ffb-4c8a-f01d-330c129bf670"
      },
      "execution_count": 72,
      "outputs": [
        {
          "output_type": "stream",
          "name": "stdout",
          "text": [
            "(64, 100, 66) # (batch_size, sequence_length, vocab_size)\n"
          ]
        }
      ]
    },
    {
      "cell_type": "code",
      "source": [
        "model.summary()"
      ],
      "metadata": {
        "colab": {
          "base_uri": "https://localhost:8080/"
        },
        "id": "P16e-893qoOp",
        "outputId": "84d3b825-476f-4735-a244-443de0fb1666"
      },
      "execution_count": 73,
      "outputs": [
        {
          "output_type": "stream",
          "name": "stdout",
          "text": [
            "Model: \"my_model\"\n",
            "_________________________________________________________________\n",
            " Layer (type)                Output Shape              Param #   \n",
            "=================================================================\n",
            " embedding_2 (Embedding)     multiple                  16896     \n",
            "                                                                 \n",
            " gru (GRU)                   multiple                  3938304   \n",
            "                                                                 \n",
            " dense_4 (Dense)             multiple                  67650     \n",
            "                                                                 \n",
            "=================================================================\n",
            "Total params: 4022850 (15.35 MB)\n",
            "Trainable params: 4022850 (15.35 MB)\n",
            "Non-trainable params: 0 (0.00 Byte)\n",
            "_________________________________________________________________\n"
          ]
        }
      ]
    },
    {
      "cell_type": "code",
      "source": [
        "sampled_indices = tf.random.categorical(example_batch_predictions[0], num_samples=1)\n",
        "sampled_indices = tf.squeeze(sampled_indices, axis=-1).numpy()"
      ],
      "metadata": {
        "id": "tX6bxyAAqprc"
      },
      "execution_count": 74,
      "outputs": []
    },
    {
      "cell_type": "code",
      "source": [
        "sampled_indices"
      ],
      "metadata": {
        "colab": {
          "base_uri": "https://localhost:8080/"
        },
        "id": "G5VifPAvquhF",
        "outputId": "30834c73-0623-4876-def0-9343e615e383"
      },
      "execution_count": 75,
      "outputs": [
        {
          "output_type": "execute_result",
          "data": {
            "text/plain": [
              "array([12, 32, 56, 59, 57, 16, 19, 21, 46, 53, 44, 39, 10, 40, 42, 46, 33,\n",
              "       24, 59, 51, 29, 32, 48, 45, 29, 24, 55, 15, 10, 57, 38, 51, 62, 54,\n",
              "        0, 57, 15, 54, 13,  1, 33, 24, 36, 21,  7,  6, 34, 51, 24, 10, 42,\n",
              "        6, 18,  7, 18, 48, 17, 29, 63, 36, 52, 21, 59, 35,  5, 36, 49, 23,\n",
              "       53, 57, 48, 57, 20, 12,  7, 51, 47, 62, 36, 39, 36, 52, 38, 43, 19,\n",
              "       35, 39, 35,  9, 48,  4,  1, 61, 30,  0, 33, 32, 48, 62, 42])"
            ]
          },
          "metadata": {},
          "execution_count": 75
        }
      ]
    },
    {
      "cell_type": "code",
      "source": [
        "print(\"Input:\\n\", text_from_ids(input_example_batch[0]).numpy())\n",
        "print()\n",
        "print(\"Next Char Predictions:\\n\", text_from_ids(sampled_indices).numpy())"
      ],
      "metadata": {
        "colab": {
          "base_uri": "https://localhost:8080/"
        },
        "id": "hohLzrOGqwPT",
        "outputId": "bef6284e-24e2-4cb3-8d75-f6e1d52c4bc7"
      },
      "execution_count": 76,
      "outputs": [
        {
          "output_type": "stream",
          "name": "stdout",
          "text": [
            "Input:\n",
            " b\"t I'll tell the world aloud\\nWhat man thou art.\\n\\nANGELO:\\nWho will believe thee, Isabel?\\nMy unsoil'd n\"\n",
            "\n",
            "Next Char Predictions:\n",
            " b\";SqtrCFHgneZ3acgTKtlPSifPKpB3rYlwo[UNK]rBo?\\nTKWH,'UlK3c'E,EiDPxWmHtV&WjJnrirG;,lhwWZWmYdFVZV.i$\\nvQ[UNK]TSiwc\"\n"
          ]
        }
      ]
    },
    {
      "cell_type": "markdown",
      "source": [
        "Train Model"
      ],
      "metadata": {
        "id": "2evU8fjkq1E6"
      }
    },
    {
      "cell_type": "markdown",
      "source": [
        "Tambahan optimizer dan fungsi loss"
      ],
      "metadata": {
        "id": "UUedR5ERq3Hl"
      }
    },
    {
      "cell_type": "code",
      "source": [
        "loss = tf.losses.SparseCategoricalCrossentropy(from_logits=True)"
      ],
      "metadata": {
        "id": "zmC64txtq2wM"
      },
      "execution_count": 77,
      "outputs": []
    },
    {
      "cell_type": "code",
      "source": [
        "example_batch_mean_loss = loss(target_example_batch, example_batch_predictions)\n",
        "print(\"Prediction shape: \", example_batch_predictions.shape, \" # (batch_size, sequence_length, vocab_size)\")\n",
        "print(\"Mean loss:        \", example_batch_mean_loss)"
      ],
      "metadata": {
        "colab": {
          "base_uri": "https://localhost:8080/"
        },
        "id": "RQn2HGIzq6nI",
        "outputId": "812dca0c-18ca-4c9d-f5bf-070bd0bc70eb"
      },
      "execution_count": 78,
      "outputs": [
        {
          "output_type": "stream",
          "name": "stdout",
          "text": [
            "Prediction shape:  (64, 100, 66)  # (batch_size, sequence_length, vocab_size)\n",
            "Mean loss:         tf.Tensor(4.190232, shape=(), dtype=float32)\n"
          ]
        }
      ]
    },
    {
      "cell_type": "code",
      "source": [
        "tf.exp(example_batch_mean_loss).numpy()"
      ],
      "metadata": {
        "colab": {
          "base_uri": "https://localhost:8080/"
        },
        "id": "Gf-NP5G1q8kq",
        "outputId": "b1304ba5-1979-4d4d-eb14-1d99ea818775"
      },
      "execution_count": 79,
      "outputs": [
        {
          "output_type": "execute_result",
          "data": {
            "text/plain": [
              "66.03809"
            ]
          },
          "metadata": {},
          "execution_count": 79
        }
      ]
    },
    {
      "cell_type": "code",
      "source": [
        "model.compile(optimizer='adam', loss=loss)"
      ],
      "metadata": {
        "id": "zswJQkUNq97v"
      },
      "execution_count": 80,
      "outputs": []
    },
    {
      "cell_type": "markdown",
      "source": [
        "Konfigurasi Checkpoints"
      ],
      "metadata": {
        "id": "8VwEw_COrBH-"
      }
    },
    {
      "cell_type": "code",
      "source": [
        "# Directory where the checkpoints will be saved\n",
        "checkpoint_dir = './training_checkpoints'\n",
        "# Name of the checkpoint files\n",
        "checkpoint_prefix = os.path.join(checkpoint_dir, \"ckpt_{epoch}\")\n",
        "\n",
        "checkpoint_callback = tf.keras.callbacks.ModelCheckpoint(\n",
        "    filepath=checkpoint_prefix,\n",
        "    save_weights_only=True)"
      ],
      "metadata": {
        "id": "vDXyApeKrB0p"
      },
      "execution_count": 81,
      "outputs": []
    },
    {
      "cell_type": "markdown",
      "source": [
        "Lakukan Proses Training"
      ],
      "metadata": {
        "id": "iZVMpIKhrD7y"
      }
    },
    {
      "cell_type": "code",
      "source": [
        "EPOCHS = 20"
      ],
      "metadata": {
        "id": "3tZaDor5rEvt"
      },
      "execution_count": 82,
      "outputs": []
    },
    {
      "cell_type": "code",
      "source": [
        "history = model.fit(dataset, epochs=EPOCHS, callbacks=[checkpoint_callback])"
      ],
      "metadata": {
        "colab": {
          "base_uri": "https://localhost:8080/"
        },
        "id": "_BCU14-9rHOL",
        "outputId": "0d19bdb2-795e-4393-e112-10c5b78e4f2c"
      },
      "execution_count": 83,
      "outputs": [
        {
          "output_type": "stream",
          "name": "stdout",
          "text": [
            "Epoch 1/20\n",
            "172/172 [==============================] - 679s 4s/step - loss: 2.7235\n",
            "Epoch 2/20\n",
            "172/172 [==============================] - 654s 4s/step - loss: 1.9904\n",
            "Epoch 3/20\n",
            "172/172 [==============================] - 657s 4s/step - loss: 1.7094\n",
            "Epoch 4/20\n",
            "172/172 [==============================] - 656s 4s/step - loss: 1.5469\n",
            "Epoch 5/20\n",
            "172/172 [==============================] - 656s 4s/step - loss: 1.4493\n",
            "Epoch 6/20\n",
            "172/172 [==============================] - 649s 4s/step - loss: 1.3806\n",
            "Epoch 7/20\n",
            "172/172 [==============================] - 644s 4s/step - loss: 1.3288\n",
            "Epoch 8/20\n",
            "172/172 [==============================] - 646s 4s/step - loss: 1.2843\n",
            "Epoch 9/20\n",
            "172/172 [==============================] - 646s 4s/step - loss: 1.2430\n",
            "Epoch 10/20\n",
            "172/172 [==============================] - 647s 4s/step - loss: 1.2040\n",
            "Epoch 11/20\n",
            "172/172 [==============================] - 648s 4s/step - loss: 1.1647\n",
            "Epoch 12/20\n",
            "172/172 [==============================] - 644s 4s/step - loss: 1.1236\n",
            "Epoch 13/20\n",
            "172/172 [==============================] - 646s 4s/step - loss: 1.0793\n",
            "Epoch 14/20\n",
            "172/172 [==============================] - 644s 4s/step - loss: 1.0348\n",
            "Epoch 15/20\n",
            "172/172 [==============================] - 644s 4s/step - loss: 0.9847\n",
            "Epoch 16/20\n",
            "172/172 [==============================] - 642s 4s/step - loss: 0.9340\n",
            "Epoch 17/20\n",
            "172/172 [==============================] - 645s 4s/step - loss: 0.8819\n",
            "Epoch 18/20\n",
            "172/172 [==============================] - 645s 4s/step - loss: 0.8293\n",
            "Epoch 19/20\n",
            "172/172 [==============================] - 644s 4s/step - loss: 0.7782\n",
            "Epoch 20/20\n",
            "172/172 [==============================] - 644s 4s/step - loss: 0.7284\n"
          ]
        }
      ]
    },
    {
      "cell_type": "markdown",
      "source": [
        "Generate Teks"
      ],
      "metadata": {
        "id": "uGAIiHThrKv6"
      }
    },
    {
      "cell_type": "code",
      "source": [
        "class OneStep(tf.keras.Model):\n",
        "  def __init__(self, model, chars_from_ids, ids_from_chars, temperature=1.0):\n",
        "    super().__init__()\n",
        "    self.temperature = temperature\n",
        "    self.model = model\n",
        "    self.chars_from_ids = chars_from_ids\n",
        "    self.ids_from_chars = ids_from_chars\n",
        "\n",
        "    # Create a mask to prevent \"[UNK]\" from being generated.\n",
        "    skip_ids = self.ids_from_chars(['[UNK]'])[:, None]\n",
        "    sparse_mask = tf.SparseTensor(\n",
        "        # Put a -inf at each bad index.\n",
        "        values=[-float('inf')]*len(skip_ids),\n",
        "        indices=skip_ids,\n",
        "        # Match the shape to the vocabulary\n",
        "        dense_shape=[len(ids_from_chars.get_vocabulary())])\n",
        "    self.prediction_mask = tf.sparse.to_dense(sparse_mask)\n",
        "\n",
        "  @tf.function\n",
        "  def generate_one_step(self, inputs, states=None):\n",
        "    # Convert strings to token IDs.\n",
        "    input_chars = tf.strings.unicode_split(inputs, 'UTF-8')\n",
        "    input_ids = self.ids_from_chars(input_chars).to_tensor()\n",
        "\n",
        "    # Run the model.\n",
        "    # predicted_logits.shape is [batch, char, next_char_logits]\n",
        "    predicted_logits, states = self.model(inputs=input_ids, states=states,\n",
        "                                          return_state=True)\n",
        "    # Only use the last prediction.\n",
        "    predicted_logits = predicted_logits[:, -1, :]\n",
        "    predicted_logits = predicted_logits/self.temperature\n",
        "    # Apply the prediction mask: prevent \"[UNK]\" from being generated.\n",
        "    predicted_logits = predicted_logits + self.prediction_mask\n",
        "\n",
        "    # Sample the output logits to generate token IDs.\n",
        "    predicted_ids = tf.random.categorical(predicted_logits, num_samples=1)\n",
        "    predicted_ids = tf.squeeze(predicted_ids, axis=-1)\n",
        "\n",
        "    # Convert from token ids to characters\n",
        "    predicted_chars = self.chars_from_ids(predicted_ids)\n",
        "\n",
        "    # Return the characters and model state.\n",
        "    return predicted_chars, states"
      ],
      "metadata": {
        "id": "Q5cFd2JFrLO5"
      },
      "execution_count": 84,
      "outputs": []
    },
    {
      "cell_type": "code",
      "source": [
        "one_step_model = OneStep(model, chars_from_ids, ids_from_chars)"
      ],
      "metadata": {
        "id": "8507pSrtfeQ7"
      },
      "execution_count": 88,
      "outputs": []
    },
    {
      "cell_type": "code",
      "source": [
        "start = time.time()\n",
        "states = None\n",
        "next_char = tf.constant(['ROMEO:'])\n",
        "result = [next_char]\n",
        "\n",
        "for n in range(1000):\n",
        "  next_char, states = one_step_model.generate_one_step(next_char, states=states)\n",
        "  result.append(next_char)\n",
        "\n",
        "result = tf.strings.join(result)\n",
        "end = time.time()\n",
        "print(result[0].numpy().decode('utf-8'), '\\n\\n' + '_'*80)\n",
        "print('\\nRun time:', end - start)"
      ],
      "metadata": {
        "colab": {
          "base_uri": "https://localhost:8080/"
        },
        "id": "MUaI0Jt4rPsd",
        "outputId": "b958fb65-4064-41aa-e0bf-40e1260db386"
      },
      "execution_count": 89,
      "outputs": [
        {
          "output_type": "stream",
          "name": "stdout",
          "text": [
            "ROMEO:\n",
            "Then, ELIZIO:\n",
            "Why, no; behold, King Richard all the Anticlish days\n",
            "Which you honour heard of you.\n",
            "\n",
            "All:\n",
            "Tell these?\n",
            "The benefit off these I found it should not\n",
            "Floce to make me a thing made for you:\n",
            "In whose I might ever discourse he was a worthy\n",
            "Nuffilly of this place, which is doth laugh\n",
            "And slitted for right Varser. Stand's dead!\n",
            "\n",
            "Second Lord:\n",
            "\n",
            "First Soldier:\n",
            "Follow me. My gracious lord,\n",
            "Be reseal yourself; and soon I prove triest,\n",
            "And to my heart, the king is well. So of Balona,\n",
            "'Genxife and practise hast the belly\n",
            "To be condemn'd me from him--matted with hers,\n",
            "wot now upon the iser wagg'd officer of full.\n",
            "\n",
            "LUCIO:\n",
            "I have: but we will attend you so attaind\n",
            "By a preservips of the wavers of my sheeks.\n",
            "\n",
            "KING EDWARD IV:\n",
            "You here mayar hold help young was! I come, I fear it not; no\n",
            "notice.\n",
            "\n",
            "PETRUCHIO:\n",
            "It was the law:\n",
            "And, foolish astorder thy bend!\n",
            "Far with a words are business,--\n",
            "Is quiet your anchors, senting best,\n",
            "In that thy justice hence betwixt his mercy: what I will hence,\n",
            "To Lon \n",
            "\n",
            "________________________________________________________________________________\n",
            "\n",
            "Run time: 2.700908899307251\n"
          ]
        }
      ]
    },
    {
      "cell_type": "code",
      "source": [
        "start = time.time()\n",
        "states = None\n",
        "next_char = tf.constant(['ROMEO:', 'ROMEO:', 'ROMEO:', 'ROMEO:', 'ROMEO:'])\n",
        "result = [next_char]\n",
        "\n",
        "for n in range(1000):\n",
        "  next_char, states = one_step_model.generate_one_step(next_char, states=states)\n",
        "  result.append(next_char)\n",
        "\n",
        "result = tf.strings.join(result)\n",
        "end = time.time()\n",
        "print(result, '\\n\\n' + '_'*80)\n",
        "print('\\nRun time:', end - start)"
      ],
      "metadata": {
        "colab": {
          "base_uri": "https://localhost:8080/"
        },
        "id": "QX4eAXPlrR7M",
        "outputId": "904f0188-dfdb-4d01-85e0-8d22b3195f5f"
      },
      "execution_count": 90,
      "outputs": [
        {
          "output_type": "stream",
          "name": "stdout",
          "text": [
            "tf.Tensor(\n",
            "[b\"ROMEO:\\nI tell thee, dear sorrow on his obinable and an anchros;\\nAnd Gaunt's of you all. With coasin, fair and grief\\nIn formally could he said her angel husband!\\nTwo durst three see these father was\\nFor death, considering who thou art,\\nFor many love says so, Than stay her tone:\\nWhere are thy tongue, to London with the days of doom up and\\npluck away.\\n\\nBIONDELLO:\\nWho.'t bribe!\\n\\nISABELLA:\\nBe ready, and will, my resign;\\nWhich to my cell,\\nWill then regrained up your fillies made for\\nAnother thunder, violent, as thou art\\nWednesdance to the injurious maid!\\nAnd his noble metter of my knowledge,\\nThat I will speak to humble thanks. He's not boundedly look\\nShorts that are human, every tongue lives! and\\nthere, if thy will with joy that my greets, I would not speak:\\nBeing a bawd, a bawd. What, do you\\nlet eat and myself confessed for his part\\ncreaping them and nowling Drebm unshould.\\nBut, sirrah, Petruchio, for the abody nobles\\nshouldst thou forth to ask his light tale still from ears:\\nWelcome my most stra\"\n",
            " b\"ROMEO:\\nGrandam, to herh woodhing;\\nIt is a man to Rome, to Dusch is the waver\\nThough we all knees. And thou must Kate it mess!\\nThe field and through the estions and my land,\\nLet's fight it, extreme perform'd a presaget\\nTo hear offencefocts; he should be rich in my cousin\\nWhich she shall go.\\n\\nVOLUMN ELIZABETH:\\nPlease you to rejoice it?\\n\\nCORIOLANUS:\\nNow, my lord\\nPerror'd with many apisons of the dust:\\nAnd we are bount in autter, counsel, my lord,\\nIt did return holding to you.\\n\\nPETRUCHIO:\\nTell me of no the air both stand lay men: 'tis tender\\nWith a curses few would set again to London\\nAre no more shortly by our struncedly. For forward of my cloy?\\n\\nBIANCA:\\nWell, well; there's so remand.\\n\\nOXFORD:\\nWhy, then, I tell thee, fellow, yet hath he dispatch'd the herl,\\nAnd straight deserved wondering eyes.\\nThinking up of cursts with Clarence our heirs--\\nWhich offer naves the tortures of the good\\nFoes dogeforbly, lords: give great toe to kill thy lips!\\nOur swords should not endure him to report\\nIs as be gra\"\n",
            " b\"ROMEO:\\nNow, sister, whom devoted is this foul accompanied\\nTo make my weal of King Lewd Henry is your awnees\\nWhich thou stabbed how, then, to make her the draws\\nAnd seem to Claudio a merry day open.\\n\\nAUTOLYCUS:\\nHere comes the record to the people.\\n\\nCORIOLANUS:\\nIf it be so; stand to talk\\nUpon the issue of your voices.\\n\\nLUCIO:\\n\\nISABELLA:\\nBut I must needs obey. This is a man.\\nTo what I can repent the Duke of Lancaster.\\nWinter very written fortune Wall,\\nI cannot judge, down to my sir,\\nLike honour to the coward: and I\\nknew than your executioner?\\n\\nLUCIO:\\nI have a soldier of Edward's; and when I found a tale?\\n\\nPETRUCHIO:\\nDidst thou not say 'tis since you woo'd?\\nWas that thy behalf march amaze to seek roward:\\nCome, gentleman. O, me love, go, see this surely\\nI should not be annoy in steed,\\nTear from the feast, and then the rarity of\\nimpassial 'mends. Op DAde his majesty\\nWill she be made of fair, yonder mans.\\n\\nVIRDIUEn MERCUTIO:\\nBut 'tis good Lord Hastings and Lady Bound,\\nLook to them, for thou wert pa\"\n",
            " b\"ROMEO:\\nThou wast not let me say, I would in it\\nWhere money for the vast of still awake.\\nThou hast fear benefits to come.\\nFrom me, Lord Hastings, we wanton withstial:\\nI think, very well; I hear the crown Drops of nothing,\\nTo farther to nobleness,\\nSo I better you have appears' gates, o'er with\\ngreat natires in the colour: here were all\\ncomes fair Baptista: but we will bear with him.\\nBesides, he says you have am custer,\\nWhate'er it was here, to make me fount it\\nTo execute the flood regian from the foul.\\n\\nDUKE VINCENTIO:\\nFaith, here's no need of once; why, what the certain royal aid!\\nAnd how she is, cry 'gainst thy oath,\\nWho and time creeping stars, and therein eyes.\\n\\nKING RICHARD II:\\nWhy with the jointwern gentle prayer of my suit:\\nIt should not rude my stones, and therein:\\nBound to the record, or give thee quite lost--\\n\\nCURTIS:\\nThis your majesty I say so heavy each, rescue him well.\\n\\nHORTENSIO:\\nTalk not the queen to the cause of the eye\\nWhen I am grating,--HORTENSIO:\\nMaster, sir, my liege,\\nPoo\"\n",
            " b\"ROMEO:\\nGreat kinsmen with thy jealousies shall\\nfar forsworn these eyes; who after more\\n\\nPabour, by your issue.\\n\\nLORD ROSS:\\nHe will not, since the kind to the extremest side\\nTo the most suitors. He wants revolted faction,\\nMade is my bowling wingdom say to the pair indeed,\\nJust had their wavered from his hand;\\nAnd to't import in't there change thee\\nin the which thou hast sworn before my foe.\\n\\nKING EDWARD IV:\\nNow, brother's great desire you see,\\nUngold? a man, I pray him, I speak must not\\nCame the her lurking, lead the old begun.\\n\\nLEONTES:\\nWhat doth the world with cloaks are stay'd as kings should stay\\nTo take a sinner with the wind;\\nNow do I then this is a good long,\\nOur breasts make thee as a torm of your own.\\n\\nLUCIO:\\nI pray thee, mark: see where the wars earth to the\\npernicious wits; and then we saw them for the packs;\\nAnd therefore, Let me peep unto us:\\nCould all the strong boy with thee in so make love\\nMecher'd, when you sing perforce supper it, shall, kneel,\\nWhich with my power is free my\"], shape=(5,), dtype=string) \n",
            "\n",
            "________________________________________________________________________________\n",
            "\n",
            "Run time: 4.036381721496582\n"
          ]
        }
      ]
    },
    {
      "cell_type": "markdown",
      "source": [
        "Ekspor Model Generator"
      ],
      "metadata": {
        "id": "wlbtanuRrT__"
      }
    },
    {
      "cell_type": "code",
      "source": [
        "tf.saved_model.save(one_step_model, 'one_step')\n",
        "one_step_reloaded = tf.saved_model.load('one_step')"
      ],
      "metadata": {
        "colab": {
          "base_uri": "https://localhost:8080/"
        },
        "id": "tW9upKFurU5o",
        "outputId": "b5cf24c9-efe1-48fb-a049-672004bd4ad4"
      },
      "execution_count": 91,
      "outputs": [
        {
          "output_type": "stream",
          "name": "stderr",
          "text": [
            "WARNING:tensorflow:Skipping full serialization of Keras layer <__main__.OneStep object at 0x7839e1067fa0>, because it is not built.\n",
            "WARNING:tensorflow:Model's `__init__()` arguments contain non-serializable objects. Please implement a `get_config()` method in the subclassed Model for proper saving and loading. Defaulting to empty config.\n",
            "WARNING:tensorflow:Model's `__init__()` arguments contain non-serializable objects. Please implement a `get_config()` method in the subclassed Model for proper saving and loading. Defaulting to empty config.\n"
          ]
        }
      ]
    },
    {
      "cell_type": "code",
      "source": [
        "states = None\n",
        "next_char = tf.constant(['ROMEO:'])\n",
        "result = [next_char]\n",
        "\n",
        "for n in range(100):\n",
        "  next_char, states = one_step_reloaded.generate_one_step(next_char, states=states)\n",
        "  result.append(next_char)\n",
        "\n",
        "print(tf.strings.join(result)[0].numpy().decode(\"utf-8\"))"
      ],
      "metadata": {
        "colab": {
          "base_uri": "https://localhost:8080/"
        },
        "id": "u5cvt4sfrWE4",
        "outputId": "6a733342-b395-48ef-fd22-cbaebc90bd5b"
      },
      "execution_count": 92,
      "outputs": [
        {
          "output_type": "stream",
          "name": "stdout",
          "text": [
            "ROMEO:\n",
            "Why, 'lay, ' young fair is to tell me sprandlish, before.\n",
            "Bost you your hands, which Warwick friar,\n"
          ]
        }
      ]
    },
    {
      "cell_type": "markdown",
      "source": [
        "# Tugas"
      ],
      "metadata": {
        "id": "hyBNUiEDX4sK"
      }
    }
  ]
}